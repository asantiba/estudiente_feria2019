{
 "cells": [
  {
   "cell_type": "markdown",
   "metadata": {},
   "source": [
    "##### Prueba de mongodb y python"
   ]
  },
  {
   "cell_type": "code",
   "execution_count": 51,
   "metadata": {},
   "outputs": [],
   "source": [
    "import pymongo\n",
    "# Se crea el servidor\n",
    "myclient = pymongo.MongoClient(\"mongodb://localhost:27017/\")\n",
    "# Se crea la base de datos a trabajar\n",
    "mydb = myclient[\"mydatabase\"]\n",
    "# Se crea la coleccion sobre la base de datos\n",
    "mycol = mydb[\"dientes_paletas\"]\n",
    "# Se crea una lista de cosas a agregar a la coleccion, se tratan de dientes por cuadrantes\n",
    "mylist = [\n",
    "  { \"name\": \"1.1\", \"Estado\": \"Sano\"},\n",
    "  { \"name\": \"1.2\", \"Estado\": \"Carie\"},\n",
    "  { \"name\": \"2.1\", \"Estado\": \"Roto\"},\n",
    "  { \"name\": \"2.2\", \"Estado\": \"Sano\"},\n",
    "  { \"name\": \"3.1\", \"Estado\": \"Sano\"},\n",
    "  { \"name\": \"3.2\", \"Estado\": \"Carie\"},\n",
    "  { \"name\": \"4.1\", \"Estado\": \"Carie\"}\n",
    "]\n",
    "# Se usa .inster_many por que son muchos, si es uno es .insert_one\n",
    "x = mycol.insert_many(mylist)"
   ]
  },
  {
   "cell_type": "code",
   "execution_count": 52,
   "metadata": {},
   "outputs": [
    {
     "name": "stdout",
     "output_type": "stream",
     "text": [
      "[ObjectId('5cf83bc84bbac85d09cc160c'), ObjectId('5cf83bc84bbac85d09cc160d'), ObjectId('5cf83bc84bbac85d09cc160e'), ObjectId('5cf83bc84bbac85d09cc160f'), ObjectId('5cf83bc84bbac85d09cc1610'), ObjectId('5cf83bc84bbac85d09cc1611'), ObjectId('5cf83bc84bbac85d09cc1612')]\n"
     ]
    }
   ],
   "source": [
    "# Se comprueba que se han insertado los nuevos id's\n",
    "print(x.inserted_ids)"
   ]
  },
  {
   "cell_type": "code",
   "execution_count": 54,
   "metadata": {},
   "outputs": [],
   "source": [
    "# Se inserta un nuevo diente con mas llaves\n",
    "mydict = { \"name\": \"4.3\", \"Estado\": \"Carie\",\"Sintomas\":\"nada\"}\n",
    "x = mycol.insert_one(mydict)"
   ]
  },
  {
   "cell_type": "code",
   "execution_count": 55,
   "metadata": {},
   "outputs": [],
   "source": [
    "# Se usa find_one() para buscar dientes\n",
    "x = mycol.find_one()"
   ]
  },
  {
   "cell_type": "code",
   "execution_count": 56,
   "metadata": {},
   "outputs": [
    {
     "name": "stdout",
     "output_type": "stream",
     "text": [
      "{'_id': ObjectId('5cf83bc84bbac85d09cc160c'), 'name': '1.1', 'Estado': 'Sano'}\n"
     ]
    }
   ],
   "source": [
    "print(x)"
   ]
  },
  {
   "cell_type": "code",
   "execution_count": 57,
   "metadata": {},
   "outputs": [
    {
     "name": "stdout",
     "output_type": "stream",
     "text": [
      "{'_id': ObjectId('5cf83bc84bbac85d09cc160c'), 'name': '1.1', 'Estado': 'Sano'}\n",
      "{'_id': ObjectId('5cf83bc84bbac85d09cc160d'), 'name': '1.2', 'Estado': 'Carie'}\n",
      "{'_id': ObjectId('5cf83bc84bbac85d09cc160e'), 'name': '2.1', 'Estado': 'Roto'}\n",
      "{'_id': ObjectId('5cf83bc84bbac85d09cc160f'), 'name': '2.2', 'Estado': 'Sano'}\n",
      "{'_id': ObjectId('5cf83bc84bbac85d09cc1610'), 'name': '3.1', 'Estado': 'Sano'}\n",
      "{'_id': ObjectId('5cf83bc84bbac85d09cc1611'), 'name': '3.2', 'Estado': 'Carie'}\n",
      "{'_id': ObjectId('5cf83bc84bbac85d09cc1612'), 'name': '4.1', 'Estado': 'Carie'}\n",
      "{'_id': ObjectId('5cf83c184bbac85d09cc1613'), 'name': '4.3', 'Estado': 'Carie', 'Sintomas': 'nada'}\n"
     ]
    }
   ],
   "source": [
    "for x in mycol.find():\n",
    "  print(x)"
   ]
  },
  {
   "cell_type": "code",
   "execution_count": 65,
   "metadata": {},
   "outputs": [
    {
     "name": "stdout",
     "output_type": "stream",
     "text": [
      "{'name': '1.1', 'Estado': 'Sano'}\n",
      "{'name': '1.2', 'Estado': 'Carie'}\n",
      "{'name': '2.1', 'Estado': 'Roto'}\n",
      "{'name': '2.2', 'Estado': 'Sano'}\n",
      "{'name': '3.1', 'Estado': 'Sano'}\n",
      "{'name': '3.2', 'Estado': 'Carie'}\n",
      "{'name': '4.1', 'Estado': 'Carie'}\n",
      "{'name': '4.3', 'Estado': 'Carie', 'Sintomas': 'nada'}\n"
     ]
    }
   ],
   "source": [
    "for x in mycol.find({},{ \"_id\":0}):\n",
    "  print(x)"
   ]
  },
  {
   "cell_type": "code",
   "execution_count": 66,
   "metadata": {},
   "outputs": [],
   "source": [
    "# Las consultas se realizan de la siguiente forma\n",
    "myquery = { \"Estado\": \"Carie\" }"
   ]
  },
  {
   "cell_type": "code",
   "execution_count": 67,
   "metadata": {},
   "outputs": [],
   "source": [
    "mydoc = mycol.find(myquery)"
   ]
  },
  {
   "cell_type": "code",
   "execution_count": 68,
   "metadata": {},
   "outputs": [
    {
     "name": "stdout",
     "output_type": "stream",
     "text": [
      "{'_id': ObjectId('5cf83bc84bbac85d09cc160d'), 'name': '1.2', 'Estado': 'Carie'}\n",
      "{'_id': ObjectId('5cf83bc84bbac85d09cc1611'), 'name': '3.2', 'Estado': 'Carie'}\n",
      "{'_id': ObjectId('5cf83bc84bbac85d09cc1612'), 'name': '4.1', 'Estado': 'Carie'}\n",
      "{'_id': ObjectId('5cf83c184bbac85d09cc1613'), 'name': '4.3', 'Estado': 'Carie', 'Sintomas': 'nada'}\n"
     ]
    }
   ],
   "source": [
    "for x in mydoc:\n",
    "  print(x)"
   ]
  },
  {
   "cell_type": "code",
   "execution_count": 70,
   "metadata": {},
   "outputs": [
    {
     "name": "stdout",
     "output_type": "stream",
     "text": [
      "{'_id': ObjectId('5cf83bc84bbac85d09cc160e'), 'name': '2.1', 'Estado': 'Roto'}\n",
      "{'_id': ObjectId('5cf83bc84bbac85d09cc160f'), 'name': '2.2', 'Estado': 'Sano'}\n"
     ]
    }
   ],
   "source": [
    "# Se usa un regex para ver los dientes pertenecientes al cuadrante 2\n",
    "myquery = { \"name\": { \"$regex\": \"^2\" } }\n",
    "mydoc = mycol.find(myquery)\n",
    "for x in mydoc:\n",
    "  print(x)"
   ]
  },
  {
   "cell_type": "code",
   "execution_count": 78,
   "metadata": {},
   "outputs": [
    {
     "data": {
      "text/plain": [
       "<pymongo.results.UpdateResult at 0x112594088>"
      ]
     },
     "execution_count": 78,
     "metadata": {},
     "output_type": "execute_result"
    }
   ],
   "source": [
    "# Actualizar datos\n",
    "myquery = { \"name\": { \"$regex\": \"^2.2\" } }\n",
    "newvalues = { \"$set\": { \"Estado\": \"Se actualizo el 2.2\" } }\n",
    "mycol.update_one(myquery, newvalues)"
   ]
  },
  {
   "cell_type": "code",
   "execution_count": 79,
   "metadata": {},
   "outputs": [
    {
     "name": "stdout",
     "output_type": "stream",
     "text": [
      "{'_id': ObjectId('5cf83bc84bbac85d09cc160c'), 'name': '1.1', 'Estado': 'tete'}\n",
      "{'_id': ObjectId('5cf83bc84bbac85d09cc160d'), 'name': '1.2', 'Estado': 'Sano'}\n",
      "{'_id': ObjectId('5cf83bc84bbac85d09cc160e'), 'name': '2.1', 'Estado': 'Roto'}\n",
      "{'_id': ObjectId('5cf83bc84bbac85d09cc160f'), 'name': '2.2', 'Estado': 'Se actualizo el 2.2'}\n",
      "{'_id': ObjectId('5cf83bc84bbac85d09cc1610'), 'name': '3.1', 'Estado': 'Sano'}\n",
      "{'_id': ObjectId('5cf83bc84bbac85d09cc1611'), 'name': '3.2', 'Estado': 'Carie'}\n",
      "{'_id': ObjectId('5cf83bc84bbac85d09cc1612'), 'name': '4.1', 'Estado': 'Carie'}\n",
      "{'_id': ObjectId('5cf83c184bbac85d09cc1613'), 'name': '4.3', 'Estado': 'Carie', 'Sintomas': 'nada'}\n"
     ]
    }
   ],
   "source": [
    "for x in mycol.find():\n",
    "  print(x)"
   ]
  },
  {
   "cell_type": "code",
   "execution_count": null,
   "metadata": {},
   "outputs": [],
   "source": []
  }
 ],
 "metadata": {
  "kernelspec": {
   "display_name": "Python 3",
   "language": "python",
   "name": "python3"
  },
  "language_info": {
   "codemirror_mode": {
    "name": "ipython",
    "version": 3
   },
   "file_extension": ".py",
   "mimetype": "text/x-python",
   "name": "python",
   "nbconvert_exporter": "python",
   "pygments_lexer": "ipython3",
   "version": "3.6.8"
  }
 },
 "nbformat": 4,
 "nbformat_minor": 2
}
